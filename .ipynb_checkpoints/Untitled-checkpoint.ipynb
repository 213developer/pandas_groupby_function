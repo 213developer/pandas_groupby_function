{
 "cells": [
  {
   "cell_type": "code",
   "execution_count": 1,
   "id": "3a26208e-5ff3-4d1a-a434-a495a93f1453",
   "metadata": {},
   "outputs": [],
   "source": [
    "import pandas as pd"
   ]
  },
  {
   "cell_type": "code",
   "execution_count": 4,
   "id": "75f32e60-85b9-40e4-8a94-b5d7295a0725",
   "metadata": {},
   "outputs": [],
   "source": [
    "# Load the dataset\n",
    "file_path = 'digital_marketing_campaign_dataset.csv'\n",
    "data = pd.read_csv(file_path)"
   ]
  },
  {
   "cell_type": "code",
   "execution_count": 6,
   "id": "a265c5df-9375-4abe-bb62-56d8e7bbcc06",
   "metadata": {},
   "outputs": [],
   "source": [
    "# Group the data by CampaignChannel and calculate summary statistics\n",
    "grouped_data = data.groupby('CampaignChannel').agg({\n",
    "    'AdSpend': 'mean',\n",
    "    'ClickThroughRate': 'mean',\n",
    "    'ConversionRate': 'mean',\n",
    "    'WebsiteVisits': 'sum',\n",
    "    'TimeOnSite': 'mean',\n",
    "}).reset_index()"
   ]
  },
  {
   "cell_type": "code",
   "execution_count": 8,
   "id": "d58fd723-63b3-4ca1-9782-85534de4a0ba",
   "metadata": {},
   "outputs": [],
   "source": [
    "# Rename columns for clarity\n",
    "grouped_data.columns = [\n",
    "    'Marketing Channel', 'Average Ad Spend', 'Average Click Through Rate', \n",
    "    'Average Conversion Rate', 'Total Website Visits', 'Average Time on Site'\n",
    "]"
   ]
  },
  {
   "cell_type": "code",
   "execution_count": 12,
   "id": "23bc39b3-ea8d-42d5-85ad-e77660f06aa3",
   "metadata": {},
   "outputs": [
    {
     "name": "stdout",
     "output_type": "stream",
     "text": [
      "  Marketing Channel  Average Ad Spend  Average Click Through Rate  \\\n",
      "0             Email       5055.604272                    0.155609   \n",
      "1               PPC       4954.221741                    0.158307   \n",
      "2          Referral       5034.042284                    0.151673   \n",
      "3               SEO       4994.131533                    0.153150   \n",
      "4      Social Media       4965.321428                    0.155523   \n",
      "\n",
      "   Average Conversion Rate  Total Website Visits  Average Time on Site  \n",
      "0                 0.104884                 38736              7.679983  \n",
      "1                 0.104132                 39977              7.841258  \n",
      "2                 0.103051                 42787              7.651172  \n",
      "3                 0.103530                 38347              7.617339  \n",
      "4                 0.106550                 38166              7.852198  \n"
     ]
    }
   ],
   "source": [
    "# Display the result\n",
    "print(grouped_data)"
   ]
  },
  {
   "cell_type": "code",
   "execution_count": null,
   "id": "b1a5620c-4c92-4d63-9f7e-a7e22d24dc01",
   "metadata": {},
   "outputs": [],
   "source": []
  }
 ],
 "metadata": {
  "kernelspec": {
   "display_name": "Python 3 (ipykernel)",
   "language": "python",
   "name": "python3"
  },
  "language_info": {
   "codemirror_mode": {
    "name": "ipython",
    "version": 3
   },
   "file_extension": ".py",
   "mimetype": "text/x-python",
   "name": "python",
   "nbconvert_exporter": "python",
   "pygments_lexer": "ipython3",
   "version": "3.12.2"
  }
 },
 "nbformat": 4,
 "nbformat_minor": 5
}
